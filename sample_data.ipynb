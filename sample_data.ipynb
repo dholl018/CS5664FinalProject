{
 "cells": [
  {
   "cell_type": "code",
   "execution_count": 1,
   "metadata": {
    "collapsed": true,
    "ExecuteTime": {
     "start_time": "2023-04-30T17:40:57.211298Z",
     "end_time": "2023-04-30T17:40:57.527183Z"
    }
   },
   "outputs": [],
   "source": [
    "import pandas as pd\n",
    "from pandas import StringDtype"
   ]
  },
  {
   "cell_type": "code",
   "execution_count": 43,
   "outputs": [
    {
     "data": {
      "text/plain": "    productId          userId                                 profileName   \n0  B003AI2VGA  A141HP4LYPWMSR            Brian E. Erland \"Rainbow Sphinx\"  \\\n1  B003AI2VGA  A328S9RN3U5M68                                  Grady Harp   \n2  B003AI2VGA  A1I7QGUDP043DG                   Chrissy K. McVay \"Writer\"   \n3  B003AI2VGA  A1M5405JH9THP9                                golgotha.gov   \n4  B003AI2VGA   ATXL536YX71TR  KerrLines \"&#34;Movies,Music,Theatre&#34;\"   \n\n  helpfulness  score        time   \n0         7/7      3  1182729600  \\\n1         4/4      3  1181952000   \n2        8/10      5  1164844800   \n3         1/1      3  1197158400   \n4         1/1      3  1188345600   \n\n                                             summary   \n0  \"There Is So Much Darkness Now ~ Come For The ...  \\\n1  Worthwhile and Important Story Hampered by Poo...   \n2                      This movie needed to be made.   \n3                  distantly based on a real tragedy   \n4  \"What's going on down in Juarez and shining a ...   \n\n                                                text  \n0  Synopsis: On the daily trek from Juarez, Mexic...  \n1  THE VIRGIN OF JUAREZ is based on true events s...  \n2  The scenes in this film can be very disquietin...  \n3  THE VIRGIN OF JUAREZ (2006)<br />directed by K...  \n4  Informationally, this SHOWTIME original is ess...  ",
      "text/html": "<div>\n<style scoped>\n    .dataframe tbody tr th:only-of-type {\n        vertical-align: middle;\n    }\n\n    .dataframe tbody tr th {\n        vertical-align: top;\n    }\n\n    .dataframe thead th {\n        text-align: right;\n    }\n</style>\n<table border=\"1\" class=\"dataframe\">\n  <thead>\n    <tr style=\"text-align: right;\">\n      <th></th>\n      <th>productId</th>\n      <th>userId</th>\n      <th>profileName</th>\n      <th>helpfulness</th>\n      <th>score</th>\n      <th>time</th>\n      <th>summary</th>\n      <th>text</th>\n    </tr>\n  </thead>\n  <tbody>\n    <tr>\n      <th>0</th>\n      <td>B003AI2VGA</td>\n      <td>A141HP4LYPWMSR</td>\n      <td>Brian E. Erland \"Rainbow Sphinx\"</td>\n      <td>7/7</td>\n      <td>3</td>\n      <td>1182729600</td>\n      <td>\"There Is So Much Darkness Now ~ Come For The ...</td>\n      <td>Synopsis: On the daily trek from Juarez, Mexic...</td>\n    </tr>\n    <tr>\n      <th>1</th>\n      <td>B003AI2VGA</td>\n      <td>A328S9RN3U5M68</td>\n      <td>Grady Harp</td>\n      <td>4/4</td>\n      <td>3</td>\n      <td>1181952000</td>\n      <td>Worthwhile and Important Story Hampered by Poo...</td>\n      <td>THE VIRGIN OF JUAREZ is based on true events s...</td>\n    </tr>\n    <tr>\n      <th>2</th>\n      <td>B003AI2VGA</td>\n      <td>A1I7QGUDP043DG</td>\n      <td>Chrissy K. McVay \"Writer\"</td>\n      <td>8/10</td>\n      <td>5</td>\n      <td>1164844800</td>\n      <td>This movie needed to be made.</td>\n      <td>The scenes in this film can be very disquietin...</td>\n    </tr>\n    <tr>\n      <th>3</th>\n      <td>B003AI2VGA</td>\n      <td>A1M5405JH9THP9</td>\n      <td>golgotha.gov</td>\n      <td>1/1</td>\n      <td>3</td>\n      <td>1197158400</td>\n      <td>distantly based on a real tragedy</td>\n      <td>THE VIRGIN OF JUAREZ (2006)&lt;br /&gt;directed by K...</td>\n    </tr>\n    <tr>\n      <th>4</th>\n      <td>B003AI2VGA</td>\n      <td>ATXL536YX71TR</td>\n      <td>KerrLines \"&amp;#34;Movies,Music,Theatre&amp;#34;\"</td>\n      <td>1/1</td>\n      <td>3</td>\n      <td>1188345600</td>\n      <td>\"What's going on down in Juarez and shining a ...</td>\n      <td>Informationally, this SHOWTIME original is ess...</td>\n    </tr>\n  </tbody>\n</table>\n</div>"
     },
     "execution_count": 43,
     "metadata": {},
     "output_type": "execute_result"
    }
   ],
   "source": [
    "# df = pd.read_csv('data/movies-formatted.txt', delimiter='|')\n",
    "df = pd.read_json('data/movies-formatted.txt', lines=True)\n",
    "df.head()"
   ],
   "metadata": {
    "collapsed": false,
    "ExecuteTime": {
     "start_time": "2023-04-30T19:45:35.756016Z",
     "end_time": "2023-04-30T19:53:38.724064Z"
    }
   }
  },
  {
   "cell_type": "code",
   "execution_count": 44,
   "outputs": [
    {
     "data": {
      "text/plain": "productId      object\nuserId         object\nprofileName    object\nhelpfulness    object\nscore           int64\ntime            int64\nsummary        object\ntext           object\ndtype: object"
     },
     "execution_count": 44,
     "metadata": {},
     "output_type": "execute_result"
    }
   ],
   "source": [
    "df.dtypes"
   ],
   "metadata": {
    "collapsed": false,
    "ExecuteTime": {
     "start_time": "2023-04-30T19:53:49.464258Z",
     "end_time": "2023-04-30T19:53:49.473233Z"
    }
   }
  },
  {
   "cell_type": "code",
   "execution_count": 56,
   "outputs": [
    {
     "data": {
      "text/plain": "0   2007-06-25\n1   2007-06-16\n2   2006-11-30\n3   2007-12-09\n4   2007-08-29\n5   2008-12-12\n6   2006-11-22\n7   2003-08-10\n8   2002-12-31\n9   2003-08-18\nName: time, dtype: datetime64[ns]"
     },
     "execution_count": 56,
     "metadata": {},
     "output_type": "execute_result"
    }
   ],
   "source": [
    "pd.to_datetime(df[:10]['time'], unit='s')"
   ],
   "metadata": {
    "collapsed": false,
    "ExecuteTime": {
     "start_time": "2023-04-30T20:00:33.653764Z",
     "end_time": "2023-04-30T20:00:33.665560Z"
    }
   }
  },
  {
   "cell_type": "code",
   "execution_count": 46,
   "outputs": [],
   "source": [
    "df.time = pd.to_datetime(df['time'], unit='s')"
   ],
   "metadata": {
    "collapsed": false,
    "ExecuteTime": {
     "start_time": "2023-04-30T19:54:52.661061Z",
     "end_time": "2023-04-30T19:54:53.698819Z"
    }
   }
  },
  {
   "cell_type": "code",
   "execution_count": 53,
   "outputs": [],
   "source": [
    "df['year'] = df.time.dt.year\n",
    "df['month'] = df.time.dt.month\n",
    "df['day'] = df.time.dt.day"
   ],
   "metadata": {
    "collapsed": false,
    "ExecuteTime": {
     "start_time": "2023-04-30T19:57:22.571836Z",
     "end_time": "2023-04-30T19:57:23.686853Z"
    }
   }
  },
  {
   "cell_type": "code",
   "execution_count": 54,
   "outputs": [
    {
     "data": {
      "text/plain": "    productId          userId                                 profileName   \n0  B003AI2VGA  A141HP4LYPWMSR            Brian E. Erland \"Rainbow Sphinx\"  \\\n1  B003AI2VGA  A328S9RN3U5M68                                  Grady Harp   \n2  B003AI2VGA  A1I7QGUDP043DG                   Chrissy K. McVay \"Writer\"   \n3  B003AI2VGA  A1M5405JH9THP9                                golgotha.gov   \n4  B003AI2VGA   ATXL536YX71TR  KerrLines \"&#34;Movies,Music,Theatre&#34;\"   \n\n  helpfulness  score       time   \n0         7/7      3 2007-06-25  \\\n1         4/4      3 2007-06-16   \n2        8/10      5 2006-11-30   \n3         1/1      3 2007-12-09   \n4         1/1      3 2007-08-29   \n\n                                             summary   \n0  \"There Is So Much Darkness Now ~ Come For The ...  \\\n1  Worthwhile and Important Story Hampered by Poo...   \n2                      This movie needed to be made.   \n3                  distantly based on a real tragedy   \n4  \"What's going on down in Juarez and shining a ...   \n\n                                                text  year  month  day  \n0  Synopsis: On the daily trek from Juarez, Mexic...  2007      6   25  \n1  THE VIRGIN OF JUAREZ is based on true events s...  2007      6   16  \n2  The scenes in this film can be very disquietin...  2006     11   30  \n3  THE VIRGIN OF JUAREZ (2006)<br />directed by K...  2007     12    9  \n4  Informationally, this SHOWTIME original is ess...  2007      8   29  ",
      "text/html": "<div>\n<style scoped>\n    .dataframe tbody tr th:only-of-type {\n        vertical-align: middle;\n    }\n\n    .dataframe tbody tr th {\n        vertical-align: top;\n    }\n\n    .dataframe thead th {\n        text-align: right;\n    }\n</style>\n<table border=\"1\" class=\"dataframe\">\n  <thead>\n    <tr style=\"text-align: right;\">\n      <th></th>\n      <th>productId</th>\n      <th>userId</th>\n      <th>profileName</th>\n      <th>helpfulness</th>\n      <th>score</th>\n      <th>time</th>\n      <th>summary</th>\n      <th>text</th>\n      <th>year</th>\n      <th>month</th>\n      <th>day</th>\n    </tr>\n  </thead>\n  <tbody>\n    <tr>\n      <th>0</th>\n      <td>B003AI2VGA</td>\n      <td>A141HP4LYPWMSR</td>\n      <td>Brian E. Erland \"Rainbow Sphinx\"</td>\n      <td>7/7</td>\n      <td>3</td>\n      <td>2007-06-25</td>\n      <td>\"There Is So Much Darkness Now ~ Come For The ...</td>\n      <td>Synopsis: On the daily trek from Juarez, Mexic...</td>\n      <td>2007</td>\n      <td>6</td>\n      <td>25</td>\n    </tr>\n    <tr>\n      <th>1</th>\n      <td>B003AI2VGA</td>\n      <td>A328S9RN3U5M68</td>\n      <td>Grady Harp</td>\n      <td>4/4</td>\n      <td>3</td>\n      <td>2007-06-16</td>\n      <td>Worthwhile and Important Story Hampered by Poo...</td>\n      <td>THE VIRGIN OF JUAREZ is based on true events s...</td>\n      <td>2007</td>\n      <td>6</td>\n      <td>16</td>\n    </tr>\n    <tr>\n      <th>2</th>\n      <td>B003AI2VGA</td>\n      <td>A1I7QGUDP043DG</td>\n      <td>Chrissy K. McVay \"Writer\"</td>\n      <td>8/10</td>\n      <td>5</td>\n      <td>2006-11-30</td>\n      <td>This movie needed to be made.</td>\n      <td>The scenes in this film can be very disquietin...</td>\n      <td>2006</td>\n      <td>11</td>\n      <td>30</td>\n    </tr>\n    <tr>\n      <th>3</th>\n      <td>B003AI2VGA</td>\n      <td>A1M5405JH9THP9</td>\n      <td>golgotha.gov</td>\n      <td>1/1</td>\n      <td>3</td>\n      <td>2007-12-09</td>\n      <td>distantly based on a real tragedy</td>\n      <td>THE VIRGIN OF JUAREZ (2006)&lt;br /&gt;directed by K...</td>\n      <td>2007</td>\n      <td>12</td>\n      <td>9</td>\n    </tr>\n    <tr>\n      <th>4</th>\n      <td>B003AI2VGA</td>\n      <td>ATXL536YX71TR</td>\n      <td>KerrLines \"&amp;#34;Movies,Music,Theatre&amp;#34;\"</td>\n      <td>1/1</td>\n      <td>3</td>\n      <td>2007-08-29</td>\n      <td>\"What's going on down in Juarez and shining a ...</td>\n      <td>Informationally, this SHOWTIME original is ess...</td>\n      <td>2007</td>\n      <td>8</td>\n      <td>29</td>\n    </tr>\n  </tbody>\n</table>\n</div>"
     },
     "execution_count": 54,
     "metadata": {},
     "output_type": "execute_result"
    }
   ],
   "source": [
    "df.head()"
   ],
   "metadata": {
    "collapsed": false,
    "ExecuteTime": {
     "start_time": "2023-04-30T19:57:30.415311Z",
     "end_time": "2023-04-30T19:57:30.420036Z"
    }
   }
  },
  {
   "cell_type": "code",
   "execution_count": 57,
   "outputs": [
    {
     "data": {
      "text/plain": "array([2007, 2006, 2008, 2003, 2002, 2004, 2000, 2009, 2011, 2010, 2001,\n       2005, 2012, 1999, 1998, 1997], dtype=int32)"
     },
     "execution_count": 57,
     "metadata": {},
     "output_type": "execute_result"
    }
   ],
   "source": [
    "pd.unique(df.year)"
   ],
   "metadata": {
    "collapsed": false,
    "ExecuteTime": {
     "start_time": "2023-04-30T20:02:34.449501Z",
     "end_time": "2023-04-30T20:02:34.506244Z"
    }
   }
  },
  {
   "cell_type": "code",
   "execution_count": 58,
   "outputs": [],
   "source": [
    "for year in pd.unique(df.year):\n",
    "    df[df.year == year].to_json(f'data/movies-{year}.json')"
   ],
   "metadata": {
    "collapsed": false,
    "ExecuteTime": {
     "start_time": "2023-04-30T20:03:37.933363Z",
     "end_time": "2023-04-30T20:07:44.926376Z"
    }
   }
  },
  {
   "cell_type": "code",
   "execution_count": 60,
   "outputs": [
    {
     "data": {
      "text/plain": "         productId          userId           profileName helpfulness  score   \n39861   B000ZHUFSK   ABSN7210FTTOJ               antonio        7/15      3  \\\n124341  B000KJU128  A1PS66N855AO4D  cdunigan@hotmail.com         3/3      5   \n129373  630305904X  A3178BLWUBFAGI     GGood5007@aol.com         3/3      4   \n300202  B003Q7B78S  A3178BLWUBFAGI     GGood5007@aol.com         3/3      4   \n366754  B00006SFN8  A12YGS1VEV0WXS   joelor@mulberry.com         0/0      4   \n\n                time                                            summary   \n39861   882489600000           Boy and girl marooned on tropical island  \\\n124341  882144000000                        Share it with your children   \n129373  882662400000                                Orlando as Everyman   \n300202  882662400000                                Orlando as Everyman   \n366754  882144000000  This is just an amazing chronology of a person...   \n\n                                                     text  year  month  day  \n39861   This is the travelogue version of the venerabl...  1997     12   19  \n124341  The Last Unicorn is a fairy tale in the best s...  1997     12   15  \n129373  Woolf's Orlando is the story of a young noblem...  1997     12   21  \n300202  Woolf's Orlando is the story of a young noblem...  1997     12   21  \n366754  If you are interested in a person's life - the...  1997     12   15  ",
      "text/html": "<div>\n<style scoped>\n    .dataframe tbody tr th:only-of-type {\n        vertical-align: middle;\n    }\n\n    .dataframe tbody tr th {\n        vertical-align: top;\n    }\n\n    .dataframe thead th {\n        text-align: right;\n    }\n</style>\n<table border=\"1\" class=\"dataframe\">\n  <thead>\n    <tr style=\"text-align: right;\">\n      <th></th>\n      <th>productId</th>\n      <th>userId</th>\n      <th>profileName</th>\n      <th>helpfulness</th>\n      <th>score</th>\n      <th>time</th>\n      <th>summary</th>\n      <th>text</th>\n      <th>year</th>\n      <th>month</th>\n      <th>day</th>\n    </tr>\n  </thead>\n  <tbody>\n    <tr>\n      <th>39861</th>\n      <td>B000ZHUFSK</td>\n      <td>ABSN7210FTTOJ</td>\n      <td>antonio</td>\n      <td>7/15</td>\n      <td>3</td>\n      <td>882489600000</td>\n      <td>Boy and girl marooned on tropical island</td>\n      <td>This is the travelogue version of the venerabl...</td>\n      <td>1997</td>\n      <td>12</td>\n      <td>19</td>\n    </tr>\n    <tr>\n      <th>124341</th>\n      <td>B000KJU128</td>\n      <td>A1PS66N855AO4D</td>\n      <td>cdunigan@hotmail.com</td>\n      <td>3/3</td>\n      <td>5</td>\n      <td>882144000000</td>\n      <td>Share it with your children</td>\n      <td>The Last Unicorn is a fairy tale in the best s...</td>\n      <td>1997</td>\n      <td>12</td>\n      <td>15</td>\n    </tr>\n    <tr>\n      <th>129373</th>\n      <td>630305904X</td>\n      <td>A3178BLWUBFAGI</td>\n      <td>GGood5007@aol.com</td>\n      <td>3/3</td>\n      <td>4</td>\n      <td>882662400000</td>\n      <td>Orlando as Everyman</td>\n      <td>Woolf's Orlando is the story of a young noblem...</td>\n      <td>1997</td>\n      <td>12</td>\n      <td>21</td>\n    </tr>\n    <tr>\n      <th>300202</th>\n      <td>B003Q7B78S</td>\n      <td>A3178BLWUBFAGI</td>\n      <td>GGood5007@aol.com</td>\n      <td>3/3</td>\n      <td>4</td>\n      <td>882662400000</td>\n      <td>Orlando as Everyman</td>\n      <td>Woolf's Orlando is the story of a young noblem...</td>\n      <td>1997</td>\n      <td>12</td>\n      <td>21</td>\n    </tr>\n    <tr>\n      <th>366754</th>\n      <td>B00006SFN8</td>\n      <td>A12YGS1VEV0WXS</td>\n      <td>joelor@mulberry.com</td>\n      <td>0/0</td>\n      <td>4</td>\n      <td>882144000000</td>\n      <td>This is just an amazing chronology of a person...</td>\n      <td>If you are interested in a person's life - the...</td>\n      <td>1997</td>\n      <td>12</td>\n      <td>15</td>\n    </tr>\n  </tbody>\n</table>\n</div>"
     },
     "execution_count": 60,
     "metadata": {},
     "output_type": "execute_result"
    }
   ],
   "source": [
    "df2 = pd.read_json('data/movies-1997.json')\n",
    "df2.head()"
   ],
   "metadata": {
    "collapsed": false,
    "ExecuteTime": {
     "start_time": "2023-04-30T20:10:04.446014Z",
     "end_time": "2023-04-30T20:10:04.479166Z"
    }
   }
  }
 ],
 "metadata": {
  "kernelspec": {
   "display_name": "Python 3",
   "language": "python",
   "name": "python3"
  },
  "language_info": {
   "codemirror_mode": {
    "name": "ipython",
    "version": 2
   },
   "file_extension": ".py",
   "mimetype": "text/x-python",
   "name": "python",
   "nbconvert_exporter": "python",
   "pygments_lexer": "ipython2",
   "version": "2.7.6"
  }
 },
 "nbformat": 4,
 "nbformat_minor": 0
}
