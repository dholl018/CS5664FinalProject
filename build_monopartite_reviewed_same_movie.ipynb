{
 "cells": [
  {
   "cell_type": "code",
   "execution_count": 97,
   "metadata": {
    "collapsed": true,
    "ExecuteTime": {
     "start_time": "2023-05-05T16:20:46.677060Z",
     "end_time": "2023-05-05T16:20:46.702710Z"
    }
   },
   "outputs": [],
   "source": [
    "%matplotlib inline\n",
    "import networkx as nx\n",
    "import pandas as pd"
   ]
  },
  {
   "cell_type": "code",
   "execution_count": 98,
   "outputs": [
    {
     "data": {
      "text/plain": "          productId          userId                            profileName   \n2987     B000056PNV   AL338KNXJC418                    Tracy E. Blackstone  \\\n5076     6304179499  A3ANE5SI99F1EY                  riteclik@riteclik.com   \n6353     B00004RXMK   A3HNUJ8AKANQ3                 G. McAlmon \"ElpasoGeo\"   \n6942     6305074054  A1GWS7GT9RXZMQ                      SUNBOY473@aol.com   \n9675     6304091338  A1268ZX3HDYDSH                      editricks@aol.com   \n...             ...             ...                                    ...   \n7907495  B0049MFTYM  A1GWS7GT9RXZMQ                      SUNBOY473@aol.com   \n7907875  B00004CI13  A25W58TZK09YET  Charles Culbertson (cculbert@cfw.com)   \n7908873  6304819927   AAHNPLJ1L109Y                          Matt Martinez   \n7910497  B000059TGF   AJLX7HEHU0ZNV                       dawn@wyoming.com   \n7911286  6300181243  A3I8LOW76S79WI     T. Cole (tcole@svhs.viator.k12.us)   \n\n        helpfulness  score          time   \n2987         99/107      5  911347200000  \\\n5076            7/8      5  915062400000   \n6353            0/1      5  912729600000   \n6942            0/1      4  913075200000   \n9675            2/8      1  912556800000   \n...             ...    ...           ...   \n7907495         1/3      3  913334400000   \n7907875         7/8      4  891561600000   \n7908873         0/3      2  895449600000   \n7910497       15/15      4  913161600000   \n7911286       10/11      2  913075200000   \n\n                                                   summary   \n2987          One Of The Two Best Samurai Films Ever Made!  \\\n5076                              Don't Overlook This One.   \n6353                      A poetic &amp; hilarious homage.   \n6942             Who says a &quot;Man&quot; can be Super?!   \n9675     If you need an excuse to see frontal nudity, t...   \n...                                                    ...   \n7907495               What was so frightening about this?!   \n7907875                     Last Hurrah for a Fading Actor   \n7908873                                   Dawn of the Dull   \n7910497  A tender love story in a troubled place and di...   \n7911286      a disappointment, especially in sound quality   \n\n                                                      text  year  month  day  \n2987     This film is one of the two best Samurai films...  1998     11   18  \n5076     The Turkey-Day special is often forgotten abou...  1998     12   31  \n6353     A poetic &amp; hilarious homage to silent Germ...  1998     12    4  \n6942     This movie is for everyone! It makes you wish ...  1998     12    8  \n9675     This is a repellent story about an impoverishe...  1998     12    2  \n...                                                    ...   ...    ...  ...  \n7907495  I thought this movie ver much draged. I know i...  1998     12   11  \n7907875  In certain scenes, you can see the weariness i...  1998      4    3  \n7908873  Zombie is basically a cheap knock-off of the u...  1998      5   18  \n7910497  This is a powerful tale of a love that emerged...  1998     12    9  \n7911286  This DVD was a dissapointment, especially in s...  1998     12    8  \n\n[5005 rows x 11 columns]",
      "text/html": "<div>\n<style scoped>\n    .dataframe tbody tr th:only-of-type {\n        vertical-align: middle;\n    }\n\n    .dataframe tbody tr th {\n        vertical-align: top;\n    }\n\n    .dataframe thead th {\n        text-align: right;\n    }\n</style>\n<table border=\"1\" class=\"dataframe\">\n  <thead>\n    <tr style=\"text-align: right;\">\n      <th></th>\n      <th>productId</th>\n      <th>userId</th>\n      <th>profileName</th>\n      <th>helpfulness</th>\n      <th>score</th>\n      <th>time</th>\n      <th>summary</th>\n      <th>text</th>\n      <th>year</th>\n      <th>month</th>\n      <th>day</th>\n    </tr>\n  </thead>\n  <tbody>\n    <tr>\n      <th>2987</th>\n      <td>B000056PNV</td>\n      <td>AL338KNXJC418</td>\n      <td>Tracy E. Blackstone</td>\n      <td>99/107</td>\n      <td>5</td>\n      <td>911347200000</td>\n      <td>One Of The Two Best Samurai Films Ever Made!</td>\n      <td>This film is one of the two best Samurai films...</td>\n      <td>1998</td>\n      <td>11</td>\n      <td>18</td>\n    </tr>\n    <tr>\n      <th>5076</th>\n      <td>6304179499</td>\n      <td>A3ANE5SI99F1EY</td>\n      <td>riteclik@riteclik.com</td>\n      <td>7/8</td>\n      <td>5</td>\n      <td>915062400000</td>\n      <td>Don't Overlook This One.</td>\n      <td>The Turkey-Day special is often forgotten abou...</td>\n      <td>1998</td>\n      <td>12</td>\n      <td>31</td>\n    </tr>\n    <tr>\n      <th>6353</th>\n      <td>B00004RXMK</td>\n      <td>A3HNUJ8AKANQ3</td>\n      <td>G. McAlmon \"ElpasoGeo\"</td>\n      <td>0/1</td>\n      <td>5</td>\n      <td>912729600000</td>\n      <td>A poetic &amp;amp; hilarious homage.</td>\n      <td>A poetic &amp;amp; hilarious homage to silent Germ...</td>\n      <td>1998</td>\n      <td>12</td>\n      <td>4</td>\n    </tr>\n    <tr>\n      <th>6942</th>\n      <td>6305074054</td>\n      <td>A1GWS7GT9RXZMQ</td>\n      <td>SUNBOY473@aol.com</td>\n      <td>0/1</td>\n      <td>4</td>\n      <td>913075200000</td>\n      <td>Who says a &amp;quot;Man&amp;quot; can be Super?!</td>\n      <td>This movie is for everyone! It makes you wish ...</td>\n      <td>1998</td>\n      <td>12</td>\n      <td>8</td>\n    </tr>\n    <tr>\n      <th>9675</th>\n      <td>6304091338</td>\n      <td>A1268ZX3HDYDSH</td>\n      <td>editricks@aol.com</td>\n      <td>2/8</td>\n      <td>1</td>\n      <td>912556800000</td>\n      <td>If you need an excuse to see frontal nudity, t...</td>\n      <td>This is a repellent story about an impoverishe...</td>\n      <td>1998</td>\n      <td>12</td>\n      <td>2</td>\n    </tr>\n    <tr>\n      <th>...</th>\n      <td>...</td>\n      <td>...</td>\n      <td>...</td>\n      <td>...</td>\n      <td>...</td>\n      <td>...</td>\n      <td>...</td>\n      <td>...</td>\n      <td>...</td>\n      <td>...</td>\n      <td>...</td>\n    </tr>\n    <tr>\n      <th>7907495</th>\n      <td>B0049MFTYM</td>\n      <td>A1GWS7GT9RXZMQ</td>\n      <td>SUNBOY473@aol.com</td>\n      <td>1/3</td>\n      <td>3</td>\n      <td>913334400000</td>\n      <td>What was so frightening about this?!</td>\n      <td>I thought this movie ver much draged. I know i...</td>\n      <td>1998</td>\n      <td>12</td>\n      <td>11</td>\n    </tr>\n    <tr>\n      <th>7907875</th>\n      <td>B00004CI13</td>\n      <td>A25W58TZK09YET</td>\n      <td>Charles Culbertson (cculbert@cfw.com)</td>\n      <td>7/8</td>\n      <td>4</td>\n      <td>891561600000</td>\n      <td>Last Hurrah for a Fading Actor</td>\n      <td>In certain scenes, you can see the weariness i...</td>\n      <td>1998</td>\n      <td>4</td>\n      <td>3</td>\n    </tr>\n    <tr>\n      <th>7908873</th>\n      <td>6304819927</td>\n      <td>AAHNPLJ1L109Y</td>\n      <td>Matt Martinez</td>\n      <td>0/3</td>\n      <td>2</td>\n      <td>895449600000</td>\n      <td>Dawn of the Dull</td>\n      <td>Zombie is basically a cheap knock-off of the u...</td>\n      <td>1998</td>\n      <td>5</td>\n      <td>18</td>\n    </tr>\n    <tr>\n      <th>7910497</th>\n      <td>B000059TGF</td>\n      <td>AJLX7HEHU0ZNV</td>\n      <td>dawn@wyoming.com</td>\n      <td>15/15</td>\n      <td>4</td>\n      <td>913161600000</td>\n      <td>A tender love story in a troubled place and di...</td>\n      <td>This is a powerful tale of a love that emerged...</td>\n      <td>1998</td>\n      <td>12</td>\n      <td>9</td>\n    </tr>\n    <tr>\n      <th>7911286</th>\n      <td>6300181243</td>\n      <td>A3I8LOW76S79WI</td>\n      <td>T. Cole (tcole@svhs.viator.k12.us)</td>\n      <td>10/11</td>\n      <td>2</td>\n      <td>913075200000</td>\n      <td>a disappointment, especially in sound quality</td>\n      <td>This DVD was a dissapointment, especially in s...</td>\n      <td>1998</td>\n      <td>12</td>\n      <td>8</td>\n    </tr>\n  </tbody>\n</table>\n<p>5005 rows × 11 columns</p>\n</div>"
     },
     "execution_count": 98,
     "metadata": {},
     "output_type": "execute_result"
    }
   ],
   "source": [
    "df = pd.read_json('data/movies-1998.json')\n",
    "df"
   ],
   "metadata": {
    "collapsed": false,
    "ExecuteTime": {
     "start_time": "2023-05-05T16:20:46.718954Z",
     "end_time": "2023-05-05T16:20:47.113159Z"
    }
   }
  },
  {
   "cell_type": "code",
   "execution_count": 99,
   "outputs": [
    {
     "data": {
      "text/plain": "          productId          userId\n2987     B000056PNV   AL338KNXJC418\n5076     6304179499  A3ANE5SI99F1EY\n6353     B00004RXMK   A3HNUJ8AKANQ3\n6942     6305074054  A1GWS7GT9RXZMQ\n9675     6304091338  A1268ZX3HDYDSH\n...             ...             ...\n7907495  B0049MFTYM  A1GWS7GT9RXZMQ\n7907875  B00004CI13  A25W58TZK09YET\n7908873  6304819927   AAHNPLJ1L109Y\n7910497  B000059TGF   AJLX7HEHU0ZNV\n7911286  6300181243  A3I8LOW76S79WI\n\n[5005 rows x 2 columns]",
      "text/html": "<div>\n<style scoped>\n    .dataframe tbody tr th:only-of-type {\n        vertical-align: middle;\n    }\n\n    .dataframe tbody tr th {\n        vertical-align: top;\n    }\n\n    .dataframe thead th {\n        text-align: right;\n    }\n</style>\n<table border=\"1\" class=\"dataframe\">\n  <thead>\n    <tr style=\"text-align: right;\">\n      <th></th>\n      <th>productId</th>\n      <th>userId</th>\n    </tr>\n  </thead>\n  <tbody>\n    <tr>\n      <th>2987</th>\n      <td>B000056PNV</td>\n      <td>AL338KNXJC418</td>\n    </tr>\n    <tr>\n      <th>5076</th>\n      <td>6304179499</td>\n      <td>A3ANE5SI99F1EY</td>\n    </tr>\n    <tr>\n      <th>6353</th>\n      <td>B00004RXMK</td>\n      <td>A3HNUJ8AKANQ3</td>\n    </tr>\n    <tr>\n      <th>6942</th>\n      <td>6305074054</td>\n      <td>A1GWS7GT9RXZMQ</td>\n    </tr>\n    <tr>\n      <th>9675</th>\n      <td>6304091338</td>\n      <td>A1268ZX3HDYDSH</td>\n    </tr>\n    <tr>\n      <th>...</th>\n      <td>...</td>\n      <td>...</td>\n    </tr>\n    <tr>\n      <th>7907495</th>\n      <td>B0049MFTYM</td>\n      <td>A1GWS7GT9RXZMQ</td>\n    </tr>\n    <tr>\n      <th>7907875</th>\n      <td>B00004CI13</td>\n      <td>A25W58TZK09YET</td>\n    </tr>\n    <tr>\n      <th>7908873</th>\n      <td>6304819927</td>\n      <td>AAHNPLJ1L109Y</td>\n    </tr>\n    <tr>\n      <th>7910497</th>\n      <td>B000059TGF</td>\n      <td>AJLX7HEHU0ZNV</td>\n    </tr>\n    <tr>\n      <th>7911286</th>\n      <td>6300181243</td>\n      <td>A3I8LOW76S79WI</td>\n    </tr>\n  </tbody>\n</table>\n<p>5005 rows × 2 columns</p>\n</div>"
     },
     "execution_count": 99,
     "metadata": {},
     "output_type": "execute_result"
    }
   ],
   "source": [
    "df_relevant_cols = df[['productId', 'userId']]\n",
    "df_relevant_cols"
   ],
   "metadata": {
    "collapsed": false,
    "ExecuteTime": {
     "start_time": "2023-05-05T16:20:47.122890Z",
     "end_time": "2023-05-05T16:20:47.129837Z"
    }
   }
  },
  {
   "cell_type": "code",
   "execution_count": 100,
   "outputs": [
    {
     "data": {
      "text/plain": "       productId     userId_left    userId_right  weight\n12    6304972857  A11HVIMRI70E2U  A1PB43SUGAJK2Z      10\n17    B000VULA9E  A1RU1MPA34NLZY  A3OI2DQP6HX7XM      12\n25    B00004CZRQ  A1ZHGBT8ZB5VZ9   AKTYY529OHLMT      29\n30    B00004CZRQ  A1GWS7GT9RXZMQ  A1ZHGBT8ZB5VZ9      29\n31    B00004CZRQ  A1GWS7GT9RXZMQ   AKTYY529OHLMT      29\n...          ...             ...             ...     ...\n6735  B000IONJH4  A10X1LTUUTKGHE   A315ON89F3RRO      17\n6741  6302482712  A2CB72DOQEDDRR   A7ROXXUYPHRS9       6\n6747  B0049MFTYM  A1ZHGBT8ZB5VZ9   AKTYY529OHLMT      29\n6752  B0049MFTYM  A1GWS7GT9RXZMQ  A1ZHGBT8ZB5VZ9      29\n6753  B0049MFTYM  A1GWS7GT9RXZMQ   AKTYY529OHLMT      29\n\n[860 rows x 4 columns]",
      "text/html": "<div>\n<style scoped>\n    .dataframe tbody tr th:only-of-type {\n        vertical-align: middle;\n    }\n\n    .dataframe tbody tr th {\n        vertical-align: top;\n    }\n\n    .dataframe thead th {\n        text-align: right;\n    }\n</style>\n<table border=\"1\" class=\"dataframe\">\n  <thead>\n    <tr style=\"text-align: right;\">\n      <th></th>\n      <th>productId</th>\n      <th>userId_left</th>\n      <th>userId_right</th>\n      <th>weight</th>\n    </tr>\n  </thead>\n  <tbody>\n    <tr>\n      <th>12</th>\n      <td>6304972857</td>\n      <td>A11HVIMRI70E2U</td>\n      <td>A1PB43SUGAJK2Z</td>\n      <td>10</td>\n    </tr>\n    <tr>\n      <th>17</th>\n      <td>B000VULA9E</td>\n      <td>A1RU1MPA34NLZY</td>\n      <td>A3OI2DQP6HX7XM</td>\n      <td>12</td>\n    </tr>\n    <tr>\n      <th>25</th>\n      <td>B00004CZRQ</td>\n      <td>A1ZHGBT8ZB5VZ9</td>\n      <td>AKTYY529OHLMT</td>\n      <td>29</td>\n    </tr>\n    <tr>\n      <th>30</th>\n      <td>B00004CZRQ</td>\n      <td>A1GWS7GT9RXZMQ</td>\n      <td>A1ZHGBT8ZB5VZ9</td>\n      <td>29</td>\n    </tr>\n    <tr>\n      <th>31</th>\n      <td>B00004CZRQ</td>\n      <td>A1GWS7GT9RXZMQ</td>\n      <td>AKTYY529OHLMT</td>\n      <td>29</td>\n    </tr>\n    <tr>\n      <th>...</th>\n      <td>...</td>\n      <td>...</td>\n      <td>...</td>\n      <td>...</td>\n    </tr>\n    <tr>\n      <th>6735</th>\n      <td>B000IONJH4</td>\n      <td>A10X1LTUUTKGHE</td>\n      <td>A315ON89F3RRO</td>\n      <td>17</td>\n    </tr>\n    <tr>\n      <th>6741</th>\n      <td>6302482712</td>\n      <td>A2CB72DOQEDDRR</td>\n      <td>A7ROXXUYPHRS9</td>\n      <td>6</td>\n    </tr>\n    <tr>\n      <th>6747</th>\n      <td>B0049MFTYM</td>\n      <td>A1ZHGBT8ZB5VZ9</td>\n      <td>AKTYY529OHLMT</td>\n      <td>29</td>\n    </tr>\n    <tr>\n      <th>6752</th>\n      <td>B0049MFTYM</td>\n      <td>A1GWS7GT9RXZMQ</td>\n      <td>A1ZHGBT8ZB5VZ9</td>\n      <td>29</td>\n    </tr>\n    <tr>\n      <th>6753</th>\n      <td>B0049MFTYM</td>\n      <td>A1GWS7GT9RXZMQ</td>\n      <td>AKTYY529OHLMT</td>\n      <td>29</td>\n    </tr>\n  </tbody>\n</table>\n<p>860 rows × 4 columns</p>\n</div>"
     },
     "execution_count": 100,
     "metadata": {},
     "output_type": "execute_result"
    }
   ],
   "source": [
    "edgelist_df = df_relevant_cols.copy(deep=True).merge(df_relevant_cols,\n",
    "                                                     how='inner',\n",
    "                                                     on='productId',\n",
    "                                                     suffixes=['_left', '_right'])\n",
    "edgelist_df = edgelist_df.where(edgelist_df['userId_left'] < edgelist_df['userId_right']).dropna()\n",
    "\n",
    "edgelist_df['weight'] = edgelist_df.groupby(['userId_left', 'userId_right']).transform('count')\n",
    "\n",
    "edgelist_df"
   ],
   "metadata": {
    "collapsed": false,
    "ExecuteTime": {
     "start_time": "2023-05-05T16:20:47.139609Z",
     "end_time": "2023-05-05T16:20:47.296499Z"
    }
   }
  },
  {
   "cell_type": "code",
   "execution_count": 101,
   "outputs": [],
   "source": [
    "G: nx.Graph = nx.from_pandas_edgelist(edgelist_df,\n",
    "                            source='userId_left',\n",
    "                            target='userId_right',\n",
    "                            edge_attr=['weight'])"
   ],
   "metadata": {
    "collapsed": false,
    "ExecuteTime": {
     "start_time": "2023-05-05T16:20:47.180797Z",
     "end_time": "2023-05-05T16:20:47.316740Z"
    }
   }
  },
  {
   "cell_type": "code",
   "execution_count": 102,
   "outputs": [
    {
     "data": {
      "text/plain": "{'weight': 29}"
     },
     "execution_count": 102,
     "metadata": {},
     "output_type": "execute_result"
    }
   ],
   "source": [
    "G.get_edge_data('A1ZHGBT8ZB5VZ9', 'AKTYY529OHLMT')"
   ],
   "metadata": {
    "collapsed": false,
    "ExecuteTime": {
     "start_time": "2023-05-05T16:20:47.187902Z",
     "end_time": "2023-05-05T16:20:47.344184Z"
    }
   }
  },
  {
   "cell_type": "code",
   "execution_count": 103,
   "outputs": [
    {
     "data": {
      "text/plain": "158"
     },
     "execution_count": 103,
     "metadata": {},
     "output_type": "execute_result"
    }
   ],
   "source": [
    "G.number_of_nodes()"
   ],
   "metadata": {
    "collapsed": false,
    "ExecuteTime": {
     "start_time": "2023-05-05T16:20:47.194863Z",
     "end_time": "2023-05-05T16:20:47.344484Z"
    }
   }
  },
  {
   "cell_type": "code",
   "execution_count": 104,
   "outputs": [
    {
     "data": {
      "text/plain": "97"
     },
     "execution_count": 104,
     "metadata": {},
     "output_type": "execute_result"
    }
   ],
   "source": [
    "G.number_of_edges()"
   ],
   "metadata": {
    "collapsed": false,
    "ExecuteTime": {
     "start_time": "2023-05-05T16:20:47.200629Z",
     "end_time": "2023-05-05T16:20:47.344694Z"
    }
   }
  },
  {
   "cell_type": "code",
   "execution_count": 128,
   "outputs": [],
   "source": [
    "nx.write_gexf(G, 'generated_graphs/reviewed_same_movie.gexf')"
   ],
   "metadata": {
    "collapsed": false,
    "ExecuteTime": {
     "start_time": "2023-05-05T16:27:17.987156Z",
     "end_time": "2023-05-05T16:27:17.991737Z"
    }
   }
  },
  {
   "cell_type": "code",
   "execution_count": 126,
   "outputs": [],
   "source": [
    "pos = nx.circular_layout(G)"
   ],
   "metadata": {
    "collapsed": false,
    "ExecuteTime": {
     "start_time": "2023-05-05T16:24:44.436575Z",
     "end_time": "2023-05-05T16:24:44.445398Z"
    }
   }
  },
  {
   "cell_type": "code",
   "execution_count": 127,
   "outputs": [
    {
     "ename": "ValueError",
     "evalue": "'vertices' must be 2D with shape (M, 2). Your input has shape (2, 3).",
     "output_type": "error",
     "traceback": [
      "\u001B[0;31m---------------------------------------------------------------------------\u001B[0m",
      "\u001B[0;31mValueError\u001B[0m                                Traceback (most recent call last)",
      "Cell \u001B[0;32mIn[127], line 1\u001B[0m\n\u001B[0;32m----> 1\u001B[0m \u001B[43mnx\u001B[49m\u001B[38;5;241;43m.\u001B[39;49m\u001B[43mdraw\u001B[49m\u001B[43m(\u001B[49m\u001B[43mG\u001B[49m\u001B[43m,\u001B[49m\u001B[43m \u001B[49m\u001B[43mpos\u001B[49m\u001B[38;5;241;43m=\u001B[39;49m\u001B[43mpos\u001B[49m\u001B[43m)\u001B[49m\n",
      "File \u001B[0;32m~/drive-docs/Education/VTMIT/2023/CS5664_Social_Media_Analytics/.venv/lib/python3.11/site-packages/networkx/drawing/nx_pylab.py:121\u001B[0m, in \u001B[0;36mdraw\u001B[0;34m(G, pos, ax, **kwds)\u001B[0m\n\u001B[1;32m    118\u001B[0m \u001B[38;5;28;01mif\u001B[39;00m \u001B[38;5;124m\"\u001B[39m\u001B[38;5;124mwith_labels\u001B[39m\u001B[38;5;124m\"\u001B[39m \u001B[38;5;129;01mnot\u001B[39;00m \u001B[38;5;129;01min\u001B[39;00m kwds:\n\u001B[1;32m    119\u001B[0m     kwds[\u001B[38;5;124m\"\u001B[39m\u001B[38;5;124mwith_labels\u001B[39m\u001B[38;5;124m\"\u001B[39m] \u001B[38;5;241m=\u001B[39m \u001B[38;5;124m\"\u001B[39m\u001B[38;5;124mlabels\u001B[39m\u001B[38;5;124m\"\u001B[39m \u001B[38;5;129;01min\u001B[39;00m kwds\n\u001B[0;32m--> 121\u001B[0m \u001B[43mdraw_networkx\u001B[49m\u001B[43m(\u001B[49m\u001B[43mG\u001B[49m\u001B[43m,\u001B[49m\u001B[43m \u001B[49m\u001B[43mpos\u001B[49m\u001B[38;5;241;43m=\u001B[39;49m\u001B[43mpos\u001B[49m\u001B[43m,\u001B[49m\u001B[43m \u001B[49m\u001B[43max\u001B[49m\u001B[38;5;241;43m=\u001B[39;49m\u001B[43max\u001B[49m\u001B[43m,\u001B[49m\u001B[43m \u001B[49m\u001B[38;5;241;43m*\u001B[39;49m\u001B[38;5;241;43m*\u001B[39;49m\u001B[43mkwds\u001B[49m\u001B[43m)\u001B[49m\n\u001B[1;32m    122\u001B[0m ax\u001B[38;5;241m.\u001B[39mset_axis_off()\n\u001B[1;32m    123\u001B[0m plt\u001B[38;5;241m.\u001B[39mdraw_if_interactive()\n",
      "File \u001B[0;32m~/drive-docs/Education/VTMIT/2023/CS5664_Social_Media_Analytics/.venv/lib/python3.11/site-packages/networkx/drawing/nx_pylab.py:304\u001B[0m, in \u001B[0;36mdraw_networkx\u001B[0;34m(G, pos, arrows, with_labels, **kwds)\u001B[0m\n\u001B[1;32m    301\u001B[0m     pos \u001B[38;5;241m=\u001B[39m nx\u001B[38;5;241m.\u001B[39mdrawing\u001B[38;5;241m.\u001B[39mspring_layout(G)  \u001B[38;5;66;03m# default to spring layout\u001B[39;00m\n\u001B[1;32m    303\u001B[0m draw_networkx_nodes(G, pos, \u001B[38;5;241m*\u001B[39m\u001B[38;5;241m*\u001B[39mnode_kwds)\n\u001B[0;32m--> 304\u001B[0m \u001B[43mdraw_networkx_edges\u001B[49m\u001B[43m(\u001B[49m\u001B[43mG\u001B[49m\u001B[43m,\u001B[49m\u001B[43m \u001B[49m\u001B[43mpos\u001B[49m\u001B[43m,\u001B[49m\u001B[43m \u001B[49m\u001B[43marrows\u001B[49m\u001B[38;5;241;43m=\u001B[39;49m\u001B[43marrows\u001B[49m\u001B[43m,\u001B[49m\u001B[43m \u001B[49m\u001B[38;5;241;43m*\u001B[39;49m\u001B[38;5;241;43m*\u001B[39;49m\u001B[43medge_kwds\u001B[49m\u001B[43m)\u001B[49m\n\u001B[1;32m    305\u001B[0m \u001B[38;5;28;01mif\u001B[39;00m with_labels:\n\u001B[1;32m    306\u001B[0m     draw_networkx_labels(G, pos, \u001B[38;5;241m*\u001B[39m\u001B[38;5;241m*\u001B[39mlabel_kwds)\n",
      "File \u001B[0;32m~/drive-docs/Education/VTMIT/2023/CS5664_Social_Media_Analytics/.venv/lib/python3.11/site-packages/networkx/drawing/nx_pylab.py:896\u001B[0m, in \u001B[0;36mdraw_networkx_edges\u001B[0;34m(G, pos, edgelist, width, edge_color, style, alpha, arrowstyle, arrowsize, edge_cmap, edge_vmin, edge_vmax, ax, arrows, label, node_size, nodelist, node_shape, connectionstyle, min_source_margin, min_target_margin)\u001B[0m\n\u001B[1;32m    894\u001B[0m \u001B[38;5;66;03m# Draw the edges\u001B[39;00m\n\u001B[1;32m    895\u001B[0m \u001B[38;5;28;01mif\u001B[39;00m use_linecollection:\n\u001B[0;32m--> 896\u001B[0m     edge_viz_obj \u001B[38;5;241m=\u001B[39m \u001B[43m_draw_networkx_edges_line_collection\u001B[49m\u001B[43m(\u001B[49m\u001B[43m)\u001B[49m\n\u001B[1;32m    897\u001B[0m     \u001B[38;5;66;03m# Make sure selfloop edges are also drawn\u001B[39;00m\n\u001B[1;32m    898\u001B[0m     selfloops_to_draw \u001B[38;5;241m=\u001B[39m [loop \u001B[38;5;28;01mfor\u001B[39;00m loop \u001B[38;5;129;01min\u001B[39;00m nx\u001B[38;5;241m.\u001B[39mselfloop_edges(G) \u001B[38;5;28;01mif\u001B[39;00m loop \u001B[38;5;129;01min\u001B[39;00m edgelist]\n",
      "File \u001B[0;32m~/drive-docs/Education/VTMIT/2023/CS5664_Social_Media_Analytics/.venv/lib/python3.11/site-packages/networkx/drawing/nx_pylab.py:738\u001B[0m, in \u001B[0;36mdraw_networkx_edges.<locals>._draw_networkx_edges_line_collection\u001B[0;34m()\u001B[0m\n\u001B[1;32m    737\u001B[0m \u001B[38;5;28;01mdef\u001B[39;00m \u001B[38;5;21m_draw_networkx_edges_line_collection\u001B[39m():\n\u001B[0;32m--> 738\u001B[0m     edge_collection \u001B[38;5;241m=\u001B[39m \u001B[43mmpl\u001B[49m\u001B[38;5;241;43m.\u001B[39;49m\u001B[43mcollections\u001B[49m\u001B[38;5;241;43m.\u001B[39;49m\u001B[43mLineCollection\u001B[49m\u001B[43m(\u001B[49m\n\u001B[1;32m    739\u001B[0m \u001B[43m        \u001B[49m\u001B[43medge_pos\u001B[49m\u001B[43m,\u001B[49m\n\u001B[1;32m    740\u001B[0m \u001B[43m        \u001B[49m\u001B[43mcolors\u001B[49m\u001B[38;5;241;43m=\u001B[39;49m\u001B[43medge_color\u001B[49m\u001B[43m,\u001B[49m\n\u001B[1;32m    741\u001B[0m \u001B[43m        \u001B[49m\u001B[43mlinewidths\u001B[49m\u001B[38;5;241;43m=\u001B[39;49m\u001B[43mwidth\u001B[49m\u001B[43m,\u001B[49m\n\u001B[1;32m    742\u001B[0m \u001B[43m        \u001B[49m\u001B[43mantialiaseds\u001B[49m\u001B[38;5;241;43m=\u001B[39;49m\u001B[43m(\u001B[49m\u001B[38;5;241;43m1\u001B[39;49m\u001B[43m,\u001B[49m\u001B[43m)\u001B[49m\u001B[43m,\u001B[49m\n\u001B[1;32m    743\u001B[0m \u001B[43m        \u001B[49m\u001B[43mlinestyle\u001B[49m\u001B[38;5;241;43m=\u001B[39;49m\u001B[43mstyle\u001B[49m\u001B[43m,\u001B[49m\n\u001B[1;32m    744\u001B[0m \u001B[43m        \u001B[49m\u001B[43malpha\u001B[49m\u001B[38;5;241;43m=\u001B[39;49m\u001B[43malpha\u001B[49m\u001B[43m,\u001B[49m\n\u001B[1;32m    745\u001B[0m \u001B[43m    \u001B[49m\u001B[43m)\u001B[49m\n\u001B[1;32m    746\u001B[0m     edge_collection\u001B[38;5;241m.\u001B[39mset_cmap(edge_cmap)\n\u001B[1;32m    747\u001B[0m     edge_collection\u001B[38;5;241m.\u001B[39mset_clim(edge_vmin, edge_vmax)\n",
      "File \u001B[0;32m~/drive-docs/Education/VTMIT/2023/CS5664_Social_Media_Analytics/.venv/lib/python3.11/site-packages/matplotlib/collections.py:1412\u001B[0m, in \u001B[0;36mLineCollection.__init__\u001B[0;34m(self, segments, zorder, **kwargs)\u001B[0m\n\u001B[1;32m   1408\u001B[0m kwargs\u001B[38;5;241m.\u001B[39msetdefault(\u001B[38;5;124m'\u001B[39m\u001B[38;5;124mfacecolors\u001B[39m\u001B[38;5;124m'\u001B[39m, \u001B[38;5;124m'\u001B[39m\u001B[38;5;124mnone\u001B[39m\u001B[38;5;124m'\u001B[39m)\n\u001B[1;32m   1409\u001B[0m \u001B[38;5;28msuper\u001B[39m()\u001B[38;5;241m.\u001B[39m\u001B[38;5;21m__init__\u001B[39m(\n\u001B[1;32m   1410\u001B[0m     zorder\u001B[38;5;241m=\u001B[39mzorder,\n\u001B[1;32m   1411\u001B[0m     \u001B[38;5;241m*\u001B[39m\u001B[38;5;241m*\u001B[39mkwargs)\n\u001B[0;32m-> 1412\u001B[0m \u001B[38;5;28;43mself\u001B[39;49m\u001B[38;5;241;43m.\u001B[39;49m\u001B[43mset_segments\u001B[49m\u001B[43m(\u001B[49m\u001B[43msegments\u001B[49m\u001B[43m)\u001B[49m\n",
      "File \u001B[0;32m~/drive-docs/Education/VTMIT/2023/CS5664_Social_Media_Analytics/.venv/lib/python3.11/site-packages/matplotlib/collections.py:1418\u001B[0m, in \u001B[0;36mLineCollection.set_segments\u001B[0;34m(self, segments)\u001B[0m\n\u001B[1;32m   1415\u001B[0m \u001B[38;5;28;01mif\u001B[39;00m segments \u001B[38;5;129;01mis\u001B[39;00m \u001B[38;5;28;01mNone\u001B[39;00m:\n\u001B[1;32m   1416\u001B[0m     \u001B[38;5;28;01mreturn\u001B[39;00m\n\u001B[0;32m-> 1418\u001B[0m \u001B[38;5;28mself\u001B[39m\u001B[38;5;241m.\u001B[39m_paths \u001B[38;5;241m=\u001B[39m \u001B[43m[\u001B[49m\u001B[43mmpath\u001B[49m\u001B[38;5;241;43m.\u001B[39;49m\u001B[43mPath\u001B[49m\u001B[43m(\u001B[49m\u001B[43mseg\u001B[49m\u001B[43m)\u001B[49m\u001B[43m \u001B[49m\u001B[38;5;28;43;01mif\u001B[39;49;00m\u001B[43m \u001B[49m\u001B[38;5;28;43misinstance\u001B[39;49m\u001B[43m(\u001B[49m\u001B[43mseg\u001B[49m\u001B[43m,\u001B[49m\u001B[43m \u001B[49m\u001B[43mnp\u001B[49m\u001B[38;5;241;43m.\u001B[39;49m\u001B[43mma\u001B[49m\u001B[38;5;241;43m.\u001B[39;49m\u001B[43mMaskedArray\u001B[49m\u001B[43m)\u001B[49m\n\u001B[1;32m   1419\u001B[0m \u001B[43m               \u001B[49m\u001B[38;5;28;43;01melse\u001B[39;49;00m\u001B[43m \u001B[49m\u001B[43mmpath\u001B[49m\u001B[38;5;241;43m.\u001B[39;49m\u001B[43mPath\u001B[49m\u001B[43m(\u001B[49m\u001B[43mnp\u001B[49m\u001B[38;5;241;43m.\u001B[39;49m\u001B[43masarray\u001B[49m\u001B[43m(\u001B[49m\u001B[43mseg\u001B[49m\u001B[43m,\u001B[49m\u001B[43m \u001B[49m\u001B[38;5;28;43mfloat\u001B[39;49m\u001B[43m)\u001B[49m\u001B[43m)\u001B[49m\n\u001B[1;32m   1420\u001B[0m \u001B[43m               \u001B[49m\u001B[38;5;28;43;01mfor\u001B[39;49;00m\u001B[43m \u001B[49m\u001B[43mseg\u001B[49m\u001B[43m \u001B[49m\u001B[38;5;129;43;01min\u001B[39;49;00m\u001B[43m \u001B[49m\u001B[43msegments\u001B[49m\u001B[43m]\u001B[49m\n\u001B[1;32m   1421\u001B[0m \u001B[38;5;28mself\u001B[39m\u001B[38;5;241m.\u001B[39mstale \u001B[38;5;241m=\u001B[39m \u001B[38;5;28;01mTrue\u001B[39;00m\n",
      "File \u001B[0;32m~/drive-docs/Education/VTMIT/2023/CS5664_Social_Media_Analytics/.venv/lib/python3.11/site-packages/matplotlib/collections.py:1419\u001B[0m, in \u001B[0;36m<listcomp>\u001B[0;34m(.0)\u001B[0m\n\u001B[1;32m   1415\u001B[0m \u001B[38;5;28;01mif\u001B[39;00m segments \u001B[38;5;129;01mis\u001B[39;00m \u001B[38;5;28;01mNone\u001B[39;00m:\n\u001B[1;32m   1416\u001B[0m     \u001B[38;5;28;01mreturn\u001B[39;00m\n\u001B[1;32m   1418\u001B[0m \u001B[38;5;28mself\u001B[39m\u001B[38;5;241m.\u001B[39m_paths \u001B[38;5;241m=\u001B[39m [mpath\u001B[38;5;241m.\u001B[39mPath(seg) \u001B[38;5;28;01mif\u001B[39;00m \u001B[38;5;28misinstance\u001B[39m(seg, np\u001B[38;5;241m.\u001B[39mma\u001B[38;5;241m.\u001B[39mMaskedArray)\n\u001B[0;32m-> 1419\u001B[0m                \u001B[38;5;28;01melse\u001B[39;00m \u001B[43mmpath\u001B[49m\u001B[38;5;241;43m.\u001B[39;49m\u001B[43mPath\u001B[49m\u001B[43m(\u001B[49m\u001B[43mnp\u001B[49m\u001B[38;5;241;43m.\u001B[39;49m\u001B[43masarray\u001B[49m\u001B[43m(\u001B[49m\u001B[43mseg\u001B[49m\u001B[43m,\u001B[49m\u001B[43m \u001B[49m\u001B[38;5;28;43mfloat\u001B[39;49m\u001B[43m)\u001B[49m\u001B[43m)\u001B[49m\n\u001B[1;32m   1420\u001B[0m                \u001B[38;5;28;01mfor\u001B[39;00m seg \u001B[38;5;129;01min\u001B[39;00m segments]\n\u001B[1;32m   1421\u001B[0m \u001B[38;5;28mself\u001B[39m\u001B[38;5;241m.\u001B[39mstale \u001B[38;5;241m=\u001B[39m \u001B[38;5;28;01mTrue\u001B[39;00m\n",
      "File \u001B[0;32m~/drive-docs/Education/VTMIT/2023/CS5664_Social_Media_Analytics/.venv/lib/python3.11/site-packages/matplotlib/path.py:130\u001B[0m, in \u001B[0;36mPath.__init__\u001B[0;34m(self, vertices, codes, _interpolation_steps, closed, readonly)\u001B[0m\n\u001B[1;32m    101\u001B[0m \u001B[38;5;250m\u001B[39m\u001B[38;5;124;03m\"\"\"\u001B[39;00m\n\u001B[1;32m    102\u001B[0m \u001B[38;5;124;03mCreate a new path with the given vertices and codes.\u001B[39;00m\n\u001B[1;32m    103\u001B[0m \n\u001B[0;32m   (...)\u001B[0m\n\u001B[1;32m    127\u001B[0m \u001B[38;5;124;03m    and codes as read-only arrays.\u001B[39;00m\n\u001B[1;32m    128\u001B[0m \u001B[38;5;124;03m\"\"\"\u001B[39;00m\n\u001B[1;32m    129\u001B[0m vertices \u001B[38;5;241m=\u001B[39m _to_unmasked_float_array(vertices)\n\u001B[0;32m--> 130\u001B[0m \u001B[43m_api\u001B[49m\u001B[38;5;241;43m.\u001B[39;49m\u001B[43mcheck_shape\u001B[49m\u001B[43m(\u001B[49m\u001B[43m(\u001B[49m\u001B[38;5;28;43;01mNone\u001B[39;49;00m\u001B[43m,\u001B[49m\u001B[43m \u001B[49m\u001B[38;5;241;43m2\u001B[39;49m\u001B[43m)\u001B[49m\u001B[43m,\u001B[49m\u001B[43m \u001B[49m\u001B[43mvertices\u001B[49m\u001B[38;5;241;43m=\u001B[39;49m\u001B[43mvertices\u001B[49m\u001B[43m)\u001B[49m\n\u001B[1;32m    132\u001B[0m \u001B[38;5;28;01mif\u001B[39;00m codes \u001B[38;5;129;01mis\u001B[39;00m \u001B[38;5;129;01mnot\u001B[39;00m \u001B[38;5;28;01mNone\u001B[39;00m:\n\u001B[1;32m    133\u001B[0m     codes \u001B[38;5;241m=\u001B[39m np\u001B[38;5;241m.\u001B[39masarray(codes, \u001B[38;5;28mself\u001B[39m\u001B[38;5;241m.\u001B[39mcode_type)\n",
      "File \u001B[0;32m~/drive-docs/Education/VTMIT/2023/CS5664_Social_Media_Analytics/.venv/lib/python3.11/site-packages/matplotlib/_api/__init__.py:168\u001B[0m, in \u001B[0;36mcheck_shape\u001B[0;34m(_shape, **kwargs)\u001B[0m\n\u001B[1;32m    165\u001B[0m \u001B[38;5;28;01mif\u001B[39;00m \u001B[38;5;28mlen\u001B[39m(target_shape) \u001B[38;5;241m==\u001B[39m \u001B[38;5;241m1\u001B[39m:\n\u001B[1;32m    166\u001B[0m     text_shape \u001B[38;5;241m+\u001B[39m\u001B[38;5;241m=\u001B[39m \u001B[38;5;124m\"\u001B[39m\u001B[38;5;124m,\u001B[39m\u001B[38;5;124m\"\u001B[39m\n\u001B[0;32m--> 168\u001B[0m \u001B[38;5;28;01mraise\u001B[39;00m \u001B[38;5;167;01mValueError\u001B[39;00m(\n\u001B[1;32m    169\u001B[0m     \u001B[38;5;124mf\u001B[39m\u001B[38;5;124m\"\u001B[39m\u001B[38;5;132;01m{\u001B[39;00mk\u001B[38;5;132;01m!r}\u001B[39;00m\u001B[38;5;124m must be \u001B[39m\u001B[38;5;132;01m{\u001B[39;00m\u001B[38;5;28mlen\u001B[39m(target_shape)\u001B[38;5;132;01m}\u001B[39;00m\u001B[38;5;124mD \u001B[39m\u001B[38;5;124m\"\u001B[39m\n\u001B[1;32m    170\u001B[0m     \u001B[38;5;124mf\u001B[39m\u001B[38;5;124m\"\u001B[39m\u001B[38;5;124mwith shape (\u001B[39m\u001B[38;5;132;01m{\u001B[39;00mtext_shape\u001B[38;5;132;01m}\u001B[39;00m\u001B[38;5;124m). \u001B[39m\u001B[38;5;124m\"\u001B[39m\n\u001B[1;32m    171\u001B[0m     \u001B[38;5;124mf\u001B[39m\u001B[38;5;124m\"\u001B[39m\u001B[38;5;124mYour input has shape \u001B[39m\u001B[38;5;132;01m{\u001B[39;00mv\u001B[38;5;241m.\u001B[39mshape\u001B[38;5;132;01m}\u001B[39;00m\u001B[38;5;124m.\u001B[39m\u001B[38;5;124m\"\u001B[39m\n\u001B[1;32m    172\u001B[0m )\n",
      "\u001B[0;31mValueError\u001B[0m: 'vertices' must be 2D with shape (M, 2). Your input has shape (2, 3)."
     ]
    },
    {
     "data": {
      "text/plain": "<Figure size 640x480 with 1 Axes>",
      "image/png": "[encoded data removed]"
     },
     "metadata": {},
     "output_type": "display_data"
    }
   ],
   "source": [
    "nx.draw(G, pos=pos)"
   ],
   "metadata": {
    "collapsed": false,
    "ExecuteTime": {
     "start_time": "2023-05-05T16:24:32.848665Z",
     "end_time": "2023-05-05T16:24:32.962091Z"
    }
   }
  }
 ],
 "metadata": {
  "kernelspec": {
   "display_name": "Python 3",
   "language": "python",
   "name": "python3"
  },
  "language_info": {
   "codemirror_mode": {
    "name": "ipython",
    "version": 2
   },
   "file_extension": ".py",
   "mimetype": "text/x-python",
   "name": "python",
   "nbconvert_exporter": "python",
   "pygments_lexer": "ipython2",
   "version": "2.7.6"
  }
 },
 "nbformat": 4,
 "nbformat_minor": 0
}
