{
 "cells": [
  {
   "cell_type": "code",
   "execution_count": 1,
   "metadata": {
    "collapsed": true,
    "ExecuteTime": {
     "start_time": "2023-05-05T09:13:51.821511Z",
     "end_time": "2023-05-05T09:13:52.537668Z"
    }
   },
   "outputs": [],
   "source": [
    "%matplotlib inline\n",
    "import networkx as nx\n",
    "import pandas as pd"
   ]
  },
  {
   "cell_type": "code",
   "execution_count": 2,
   "outputs": [
    {
     "data": {
      "text/plain": "          productId          userId      profileName helpfulness  score   \n22       B00004CQT3  A1VJCDRXUQVXBM       K. Kangley       10/11      5  \\\n418      0790747324   A96DHMTN072M1  James M. Cargal         1/1      5   \n419      0790747324  A1L7G9JSLCY384     David Crosby         1/1      5   \n437      0790747324  A22IK3I6U76GX0            Calle         2/3      5   \n489      0790747324  A1BWHXTFOVF9CY        Blackhawk       60/62      5   \n...             ...             ...              ...         ...    ...   \n7911290  6300181243  A27PSZX2SE0B51       Mike Stone       11/14      4   \n7911298  6300181243  A1TQB982TY31QV      plsilverman         3/4      3   \n7911299  6300181243  A1IOM171PPQ2U8       \"mr_nasty\"         6/9      5   \n7911430  6304026668  A3BP3VXMK6W0PR     \"lecter5000\"         0/0      3   \n7911434  B0001I55P6  A2P7K4W73UUN7J            Marie         6/6      5   \n\n                 time                                      summary   \n22       964915200000                A truly wonderful family film  \\\n418      968457600000                          An Enduring Classic   \n419      962409600000               The all TIME classic adventure   \n437      977875200000            A great, very entertaining movie!   \n489      970963200000                The Time Machine DVD Delivers   \n...               ...                                          ...   \n7911290  968544000000      Beware of the dreaded left-handed moth!   \n7911298  960940800000  A Glimpse Into The Marxs' Past...and Future   \n7911299  956793600000                       Hooray, Hooray, Hooray   \n7911430  958348800000                            Forgotten classic   \n7911434  950227200000                        One of Disney's best.   \n\n                                                      text  year  month  day  \n22       I would beg to differ with the above descripti...  2000      7   30  \n418      By today's standards this movie might be weak....  2000      9    9  \n419      This film ranks as quite literaly my all time ...  2000      7    1  \n437      This movie is very entertaining. An inventor h...  2000     12   27  \n489      Like most people, I had only seen this classic...  2000     10    8  \n...                                                    ...   ...    ...  ...  \n7911290  Once you get past the opening song and dance n...  2000      9   10  \n7911298  Highly reminiscent of their first talkie &quot...  2000      6   14  \n7911299  Wild comedy from the Marx Brothers which is gu...  2000      4   27  \n7911430  This film is the ultimate in late night entert...  2000      5   15  \n7911434  Why don't they make them like this anymore?  A...  2000      2   11  \n\n[333975 rows x 11 columns]",
      "text/html": "<div>\n<style scoped>\n    .dataframe tbody tr th:only-of-type {\n        vertical-align: middle;\n    }\n\n    .dataframe tbody tr th {\n        vertical-align: top;\n    }\n\n    .dataframe thead th {\n        text-align: right;\n    }\n</style>\n<table border=\"1\" class=\"dataframe\">\n  <thead>\n    <tr style=\"text-align: right;\">\n      <th></th>\n      <th>productId</th>\n      <th>userId</th>\n      <th>profileName</th>\n      <th>helpfulness</th>\n      <th>score</th>\n      <th>time</th>\n      <th>summary</th>\n      <th>text</th>\n      <th>year</th>\n      <th>month</th>\n      <th>day</th>\n    </tr>\n  </thead>\n  <tbody>\n    <tr>\n      <th>22</th>\n      <td>B00004CQT3</td>\n      <td>A1VJCDRXUQVXBM</td>\n      <td>K. Kangley</td>\n      <td>10/11</td>\n      <td>5</td>\n      <td>964915200000</td>\n      <td>A truly wonderful family film</td>\n      <td>I would beg to differ with the above descripti...</td>\n      <td>2000</td>\n      <td>7</td>\n      <td>30</td>\n    </tr>\n    <tr>\n      <th>418</th>\n      <td>0790747324</td>\n      <td>A96DHMTN072M1</td>\n      <td>James M. Cargal</td>\n      <td>1/1</td>\n      <td>5</td>\n      <td>968457600000</td>\n      <td>An Enduring Classic</td>\n      <td>By today's standards this movie might be weak....</td>\n      <td>2000</td>\n      <td>9</td>\n      <td>9</td>\n    </tr>\n    <tr>\n      <th>419</th>\n      <td>0790747324</td>\n      <td>A1L7G9JSLCY384</td>\n      <td>David Crosby</td>\n      <td>1/1</td>\n      <td>5</td>\n      <td>962409600000</td>\n      <td>The all TIME classic adventure</td>\n      <td>This film ranks as quite literaly my all time ...</td>\n      <td>2000</td>\n      <td>7</td>\n      <td>1</td>\n    </tr>\n    <tr>\n      <th>437</th>\n      <td>0790747324</td>\n      <td>A22IK3I6U76GX0</td>\n      <td>Calle</td>\n      <td>2/3</td>\n      <td>5</td>\n      <td>977875200000</td>\n      <td>A great, very entertaining movie!</td>\n      <td>This movie is very entertaining. An inventor h...</td>\n      <td>2000</td>\n      <td>12</td>\n      <td>27</td>\n    </tr>\n    <tr>\n      <th>489</th>\n      <td>0790747324</td>\n      <td>A1BWHXTFOVF9CY</td>\n      <td>Blackhawk</td>\n      <td>60/62</td>\n      <td>5</td>\n      <td>970963200000</td>\n      <td>The Time Machine DVD Delivers</td>\n      <td>Like most people, I had only seen this classic...</td>\n      <td>2000</td>\n      <td>10</td>\n      <td>8</td>\n    </tr>\n    <tr>\n      <th>...</th>\n      <td>...</td>\n      <td>...</td>\n      <td>...</td>\n      <td>...</td>\n      <td>...</td>\n      <td>...</td>\n      <td>...</td>\n      <td>...</td>\n      <td>...</td>\n      <td>...</td>\n      <td>...</td>\n    </tr>\n    <tr>\n      <th>7911290</th>\n      <td>6300181243</td>\n      <td>A27PSZX2SE0B51</td>\n      <td>Mike Stone</td>\n      <td>11/14</td>\n      <td>4</td>\n      <td>968544000000</td>\n      <td>Beware of the dreaded left-handed moth!</td>\n      <td>Once you get past the opening song and dance n...</td>\n      <td>2000</td>\n      <td>9</td>\n      <td>10</td>\n    </tr>\n    <tr>\n      <th>7911298</th>\n      <td>6300181243</td>\n      <td>A1TQB982TY31QV</td>\n      <td>plsilverman</td>\n      <td>3/4</td>\n      <td>3</td>\n      <td>960940800000</td>\n      <td>A Glimpse Into The Marxs' Past...and Future</td>\n      <td>Highly reminiscent of their first talkie &amp;quot...</td>\n      <td>2000</td>\n      <td>6</td>\n      <td>14</td>\n    </tr>\n    <tr>\n      <th>7911299</th>\n      <td>6300181243</td>\n      <td>A1IOM171PPQ2U8</td>\n      <td>\"mr_nasty\"</td>\n      <td>6/9</td>\n      <td>5</td>\n      <td>956793600000</td>\n      <td>Hooray, Hooray, Hooray</td>\n      <td>Wild comedy from the Marx Brothers which is gu...</td>\n      <td>2000</td>\n      <td>4</td>\n      <td>27</td>\n    </tr>\n    <tr>\n      <th>7911430</th>\n      <td>6304026668</td>\n      <td>A3BP3VXMK6W0PR</td>\n      <td>\"lecter5000\"</td>\n      <td>0/0</td>\n      <td>3</td>\n      <td>958348800000</td>\n      <td>Forgotten classic</td>\n      <td>This film is the ultimate in late night entert...</td>\n      <td>2000</td>\n      <td>5</td>\n      <td>15</td>\n    </tr>\n    <tr>\n      <th>7911434</th>\n      <td>B0001I55P6</td>\n      <td>A2P7K4W73UUN7J</td>\n      <td>Marie</td>\n      <td>6/6</td>\n      <td>5</td>\n      <td>950227200000</td>\n      <td>One of Disney's best.</td>\n      <td>Why don't they make them like this anymore?  A...</td>\n      <td>2000</td>\n      <td>2</td>\n      <td>11</td>\n    </tr>\n  </tbody>\n</table>\n<p>333975 rows × 11 columns</p>\n</div>"
     },
     "execution_count": 2,
     "metadata": {},
     "output_type": "execute_result"
    }
   ],
   "source": [
    "df = pd.read_json('data/movies-2000.json')\n",
    "df"
   ],
   "metadata": {
    "collapsed": false,
    "ExecuteTime": {
     "start_time": "2023-05-05T09:13:52.539603Z",
     "end_time": "2023-05-05T09:13:56.927454Z"
    }
   }
  },
  {
   "cell_type": "code",
   "execution_count": 3,
   "outputs": [
    {
     "data": {
      "text/plain": "          productId          userId\n22       B00004CQT3  A1VJCDRXUQVXBM\n418      0790747324   A96DHMTN072M1\n419      0790747324  A1L7G9JSLCY384\n437      0790747324  A22IK3I6U76GX0\n489      0790747324  A1BWHXTFOVF9CY\n...             ...             ...\n7911290  6300181243  A27PSZX2SE0B51\n7911298  6300181243  A1TQB982TY31QV\n7911299  6300181243  A1IOM171PPQ2U8\n7911430  6304026668  A3BP3VXMK6W0PR\n7911434  B0001I55P6  A2P7K4W73UUN7J\n\n[333975 rows x 2 columns]",
      "text/html": "<div>\n<style scoped>\n    .dataframe tbody tr th:only-of-type {\n        vertical-align: middle;\n    }\n\n    .dataframe tbody tr th {\n        vertical-align: top;\n    }\n\n    .dataframe thead th {\n        text-align: right;\n    }\n</style>\n<table border=\"1\" class=\"dataframe\">\n  <thead>\n    <tr style=\"text-align: right;\">\n      <th></th>\n      <th>productId</th>\n      <th>userId</th>\n    </tr>\n  </thead>\n  <tbody>\n    <tr>\n      <th>22</th>\n      <td>B00004CQT3</td>\n      <td>A1VJCDRXUQVXBM</td>\n    </tr>\n    <tr>\n      <th>418</th>\n      <td>0790747324</td>\n      <td>A96DHMTN072M1</td>\n    </tr>\n    <tr>\n      <th>419</th>\n      <td>0790747324</td>\n      <td>A1L7G9JSLCY384</td>\n    </tr>\n    <tr>\n      <th>437</th>\n      <td>0790747324</td>\n      <td>A22IK3I6U76GX0</td>\n    </tr>\n    <tr>\n      <th>489</th>\n      <td>0790747324</td>\n      <td>A1BWHXTFOVF9CY</td>\n    </tr>\n    <tr>\n      <th>...</th>\n      <td>...</td>\n      <td>...</td>\n    </tr>\n    <tr>\n      <th>7911290</th>\n      <td>6300181243</td>\n      <td>A27PSZX2SE0B51</td>\n    </tr>\n    <tr>\n      <th>7911298</th>\n      <td>6300181243</td>\n      <td>A1TQB982TY31QV</td>\n    </tr>\n    <tr>\n      <th>7911299</th>\n      <td>6300181243</td>\n      <td>A1IOM171PPQ2U8</td>\n    </tr>\n    <tr>\n      <th>7911430</th>\n      <td>6304026668</td>\n      <td>A3BP3VXMK6W0PR</td>\n    </tr>\n    <tr>\n      <th>7911434</th>\n      <td>B0001I55P6</td>\n      <td>A2P7K4W73UUN7J</td>\n    </tr>\n  </tbody>\n</table>\n<p>333975 rows × 2 columns</p>\n</div>"
     },
     "execution_count": 3,
     "metadata": {},
     "output_type": "execute_result"
    }
   ],
   "source": [
    "df_relevant_cols = df[['productId', 'userId']]\n",
    "df_relevant_cols"
   ],
   "metadata": {
    "collapsed": false,
    "ExecuteTime": {
     "start_time": "2023-05-05T09:13:56.927428Z",
     "end_time": "2023-05-05T09:13:56.943556Z"
    }
   }
  },
  {
   "cell_type": "code",
   "execution_count": 4,
   "outputs": [
    {
     "data": {
      "text/plain": "          productId     userId_left    userId_right\n6        0790747324   A96DHMTN072M1   AES0JMK0KYYHI\n11       0790747324   A96DHMTN072M1   AXY18W5QMN7UV\n12       0790747324  A1L7G9JSLCY384   A96DHMTN072M1\n14       0790747324  A1L7G9JSLCY384  A22IK3I6U76GX0\n17       0790747324  A1L7G9JSLCY384   AES0JMK0KYYHI\n...             ...             ...             ...\n8916565  B000ZLRGCY  A3B249FQ2OJBCQ  A3DL1YXKDVESZH\n8916566  B000ZLRGCY  A3B249FQ2OJBCQ   AT6JF8GKDMKS0\n8916581  6300181243  A1TQB982TY31QV  A27PSZX2SE0B51\n8916584  6300181243  A1IOM171PPQ2U8  A27PSZX2SE0B51\n8916585  6300181243  A1IOM171PPQ2U8  A1TQB982TY31QV\n\n[4284513 rows x 3 columns]",
      "text/html": "<div>\n<style scoped>\n    .dataframe tbody tr th:only-of-type {\n        vertical-align: middle;\n    }\n\n    .dataframe tbody tr th {\n        vertical-align: top;\n    }\n\n    .dataframe thead th {\n        text-align: right;\n    }\n</style>\n<table border=\"1\" class=\"dataframe\">\n  <thead>\n    <tr style=\"text-align: right;\">\n      <th></th>\n      <th>productId</th>\n      <th>userId_left</th>\n      <th>userId_right</th>\n    </tr>\n  </thead>\n  <tbody>\n    <tr>\n      <th>6</th>\n      <td>0790747324</td>\n      <td>A96DHMTN072M1</td>\n      <td>AES0JMK0KYYHI</td>\n    </tr>\n    <tr>\n      <th>11</th>\n      <td>0790747324</td>\n      <td>A96DHMTN072M1</td>\n      <td>AXY18W5QMN7UV</td>\n    </tr>\n    <tr>\n      <th>12</th>\n      <td>0790747324</td>\n      <td>A1L7G9JSLCY384</td>\n      <td>A96DHMTN072M1</td>\n    </tr>\n    <tr>\n      <th>14</th>\n      <td>0790747324</td>\n      <td>A1L7G9JSLCY384</td>\n      <td>A22IK3I6U76GX0</td>\n    </tr>\n    <tr>\n      <th>17</th>\n      <td>0790747324</td>\n      <td>A1L7G9JSLCY384</td>\n      <td>AES0JMK0KYYHI</td>\n    </tr>\n    <tr>\n      <th>...</th>\n      <td>...</td>\n      <td>...</td>\n      <td>...</td>\n    </tr>\n    <tr>\n      <th>8916565</th>\n      <td>B000ZLRGCY</td>\n      <td>A3B249FQ2OJBCQ</td>\n      <td>A3DL1YXKDVESZH</td>\n    </tr>\n    <tr>\n      <th>8916566</th>\n      <td>B000ZLRGCY</td>\n      <td>A3B249FQ2OJBCQ</td>\n      <td>AT6JF8GKDMKS0</td>\n    </tr>\n    <tr>\n      <th>8916581</th>\n      <td>6300181243</td>\n      <td>A1TQB982TY31QV</td>\n      <td>A27PSZX2SE0B51</td>\n    </tr>\n    <tr>\n      <th>8916584</th>\n      <td>6300181243</td>\n      <td>A1IOM171PPQ2U8</td>\n      <td>A27PSZX2SE0B51</td>\n    </tr>\n    <tr>\n      <th>8916585</th>\n      <td>6300181243</td>\n      <td>A1IOM171PPQ2U8</td>\n      <td>A1TQB982TY31QV</td>\n    </tr>\n  </tbody>\n</table>\n<p>4284513 rows × 3 columns</p>\n</div>"
     },
     "execution_count": 4,
     "metadata": {},
     "output_type": "execute_result"
    }
   ],
   "source": [
    "edgelist_df = df_relevant_cols.copy(deep=True).merge(df_relevant_cols,\n",
    "                                                     how='inner',\n",
    "                                                     on='productId',\n",
    "                                                     suffixes=['_left', '_right'])\n",
    "edgelist_df = edgelist_df.where(edgelist_df['userId_left'] < edgelist_df['userId_right']).dropna()\n",
    "edgelist_df"
   ],
   "metadata": {
    "collapsed": false,
    "ExecuteTime": {
     "start_time": "2023-05-05T09:13:56.945426Z",
     "end_time": "2023-05-05T09:13:59.684706Z"
    }
   }
  },
  {
   "cell_type": "code",
   "execution_count": 5,
   "outputs": [],
   "source": [
    "G: nx.Graph = nx.from_pandas_edgelist(edgelist_df,\n",
    "                            source='userId_left',\n",
    "                            target='userId_right',\n",
    "                            edge_attr=['productId'])"
   ],
   "metadata": {
    "collapsed": false,
    "ExecuteTime": {
     "start_time": "2023-05-05T09:13:59.720566Z",
     "end_time": "2023-05-05T09:14:07.298761Z"
    }
   }
  },
  {
   "cell_type": "code",
   "execution_count": 6,
   "outputs": [
    {
     "data": {
      "text/plain": "21214"
     },
     "execution_count": 6,
     "metadata": {},
     "output_type": "execute_result"
    }
   ],
   "source": [
    "G.number_of_nodes()"
   ],
   "metadata": {
    "collapsed": false,
    "ExecuteTime": {
     "start_time": "2023-05-05T09:14:07.301754Z",
     "end_time": "2023-05-05T09:14:07.305910Z"
    }
   }
  },
  {
   "cell_type": "code",
   "execution_count": 7,
   "outputs": [
    {
     "data": {
      "text/plain": "333409"
     },
     "execution_count": 7,
     "metadata": {},
     "output_type": "execute_result"
    }
   ],
   "source": [
    "G.number_of_edges()"
   ],
   "metadata": {
    "collapsed": false,
    "ExecuteTime": {
     "start_time": "2023-05-05T09:14:07.319910Z",
     "end_time": "2023-05-05T09:14:07.363310Z"
    }
   }
  },
  {
   "cell_type": "code",
   "execution_count": 8,
   "outputs": [],
   "source": [
    "nx.write_gexf(G, 'generated_graphs/reviewed_same_movie.gexf')"
   ],
   "metadata": {
    "collapsed": false,
    "ExecuteTime": {
     "start_time": "2023-05-05T09:14:07.327826Z",
     "end_time": "2023-05-05T09:14:13.995635Z"
    }
   }
  }
 ],
 "metadata": {
  "kernelspec": {
   "display_name": "Python 3",
   "language": "python",
   "name": "python3"
  },
  "language_info": {
   "codemirror_mode": {
    "name": "ipython",
    "version": 2
   },
   "file_extension": ".py",
   "mimetype": "text/x-python",
   "name": "python",
   "nbconvert_exporter": "python",
   "pygments_lexer": "ipython2",
   "version": "2.7.6"
  }
 },
 "nbformat": 4,
 "nbformat_minor": 0
}
