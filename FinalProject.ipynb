{
 "cells": [
  {
   "cell_type": "code",
   "execution_count": null,
   "id": "2f3e7e98",
   "metadata": {},
   "outputs": [],
   "source": [
    "# dataset Location\n",
    "# https://snap.stanford.edu/data/web-Movies.html"
   ]
  },
  {
   "cell_type": "code",
   "execution_count": 1,
   "id": "4720080b",
   "metadata": {},
   "outputs": [],
   "source": [
    "import numpy as np\n",
    "import pandas as pd\n",
    "import seaborn as sb\n",
    "from gensim import corpora, models\n",
    "import nltk\n",
    "import json\n",
    "from glob import glob\n",
    "import networkx as nx"
   ]
  },
  {
   "cell_type": "code",
   "execution_count": 2,
   "id": "e8a8c6ed",
   "metadata": {},
   "outputs": [],
   "source": [
    "# File Location\n",
    "path = 'movies-by-year/movies-1997.json'\n",
    "files = []"
   ]
  },
  {
   "cell_type": "code",
   "execution_count": 3,
   "id": "3aa2dc9e",
   "metadata": {},
   "outputs": [],
   "source": [
    "df = pd.read_json(path)"
   ]
  },
  {
   "cell_type": "code",
   "execution_count": 4,
   "id": "e9d102a6",
   "metadata": {},
   "outputs": [],
   "source": [
    "for each in glob('movies-by-year/*.json'):\n",
    "    files.append(each)"
   ]
  },
  {
   "cell_type": "code",
   "execution_count": 5,
   "id": "89a2c7cd",
   "metadata": {},
   "outputs": [
    {
     "data": {
      "text/plain": [
       "['movies-by-year/movies-1999.json',\n",
       " 'movies-by-year/movies-2006.json',\n",
       " 'movies-by-year/movies-2012.json',\n",
       " 'movies-by-year/movies-2000.json',\n",
       " 'movies-by-year/movies-2010.json',\n",
       " 'movies-by-year/movies-1997.json',\n",
       " 'movies-by-year/movies-2008.json',\n",
       " 'movies-by-year/movies-1998.json']"
      ]
     },
     "execution_count": 5,
     "metadata": {},
     "output_type": "execute_result"
    }
   ],
   "source": [
    "files[:8]"
   ]
  },
  {
   "cell_type": "code",
   "execution_count": 6,
   "id": "eef868ca",
   "metadata": {},
   "outputs": [],
   "source": [
    "for each in files[:4]: # I am getting errors on my machine trying to concatenate many more files than this\n",
    "    if each != path:\n",
    "        temp_df = pd.read_json(each)\n",
    "        df = pd.concat([temp_df, df])"
   ]
  },
  {
   "cell_type": "code",
   "execution_count": 7,
   "id": "9b630662",
   "metadata": {},
   "outputs": [
    {
     "data": {
      "text/plain": [
       "1851417"
      ]
     },
     "execution_count": 7,
     "metadata": {},
     "output_type": "execute_result"
    }
   ],
   "source": [
    "len(df['userId'])"
   ]
  },
  {
   "cell_type": "code",
   "execution_count": 8,
   "id": "645c1dfe",
   "metadata": {},
   "outputs": [],
   "source": [
    "G = nx.from_pandas_edgelist(df, \"userId\", \"productId\")"
   ]
  },
  {
   "cell_type": "code",
   "execution_count": 9,
   "id": "189ad138",
   "metadata": {},
   "outputs": [],
   "source": [
    "nx.draw(G)"
   ]
  }
 ],
 "metadata": {
  "kernelspec": {
   "display_name": "Python 3 (ipykernel)",
   "language": "python",
   "name": "python3"
  },
  "language_info": {
   "codemirror_mode": {
    "name": "ipython",
    "version": 3
   },
   "file_extension": ".py",
   "mimetype": "text/x-python",
   "name": "python",
   "nbconvert_exporter": "python",
   "pygments_lexer": "ipython3",
   "version": "3.9.16"
  }
 },
 "nbformat": 4,
 "nbformat_minor": 5
}
